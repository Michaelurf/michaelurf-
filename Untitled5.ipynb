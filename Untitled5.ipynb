{
  "nbformat": 4,
  "nbformat_minor": 0,
  "metadata": {
    "colab": {
      "name": "Untitled5.ipynb",
      "provenance": [],
      "authorship_tag": "ABX9TyM8bt+fjRG1Y0QG7bjRqJxP",
      "include_colab_link": true
    },
    "kernelspec": {
      "name": "python3",
      "display_name": "Python 3"
    },
    "language_info": {
      "name": "python"
    }
  },
  "cells": [
    {
      "cell_type": "markdown",
      "metadata": {
        "id": "view-in-github",
        "colab_type": "text"
      },
      "source": [
        "<a href=\"https://colab.research.google.com/github/Michaelurf/michaelurf-/blob/main/Untitled5.ipynb\" target=\"_parent\"><img src=\"https://colab.research.google.com/assets/colab-badge.svg\" alt=\"Open In Colab\"/></a>"
      ]
    },
    {
      "cell_type": "code",
      "execution_count": 2,
      "metadata": {
        "colab": {
          "base_uri": "https://localhost:8080/"
        },
        "id": "mmd54LXuxunH",
        "outputId": "a8cfe3c4-28e1-45f5-cbbf-d99cf5b0def5"
      },
      "outputs": [
        {
          "output_type": "stream",
          "name": "stdout",
          "text": [
            "123\n"
          ]
        }
      ],
      "source": [
        "print(\"123\")"
      ]
    },
    {
      "cell_type": "code",
      "source": [
        "temp=float(input(\"請輸入你的體溫\"))\n",
        "if temp>=37.5:\n",
        "  print(\"體溫過高\")\n",
        "elif temp>=37 and temp<37.4:\n",
        "  print(\"體溫略高\")\n",
        "elif temp>=34 and temp<37:\n",
        "  print(\"體溫正常\")\n",
        "else:  \n",
        "  print(\"體溫異常,請重新測量\")"
      ],
      "metadata": {
        "colab": {
          "base_uri": "https://localhost:8080/"
        },
        "id": "5dnZ7vJr6U9V",
        "outputId": "250979db-ba68-4a83-b26e-a09c153e4364"
      },
      "execution_count": 11,
      "outputs": [
        {
          "output_type": "stream",
          "name": "stdout",
          "text": [
            "請輸入你的體溫33\n",
            "體溫異常,請重新測量\n"
          ]
        }
      ]
    },
    {
      "cell_type": "code",
      "source": [
        ""
      ],
      "metadata": {
        "id": "73lHL7KLCpGa"
      },
      "execution_count": null,
      "outputs": []
    },
    {
      "cell_type": "code",
      "source": [
        "grade=float(input(\"請輸入你的成績\"))\n",
        "if grade>=90:\n",
        "  print(\"A\")\n",
        "elif grade<90 and grade>=80:\n",
        "  print(\"B\")\n",
        "elif grade<80 and grade>=70:\n",
        "  print(\"C\")\n",
        "elif grade<70 and grade>=60:\n",
        "  print(\"D\")\n",
        "else:\n",
        "  print(\"E\")"
      ],
      "metadata": {
        "colab": {
          "base_uri": "https://localhost:8080/"
        },
        "id": "rHwrQGSyDZpo",
        "outputId": "79875b57-1879-410c-ed9b-a7a6b0b38021"
      },
      "execution_count": 15,
      "outputs": [
        {
          "output_type": "stream",
          "name": "stdout",
          "text": [
            "請輸入你的成績60\n",
            "D\n"
          ]
        }
      ]
    },
    {
      "cell_type": "code",
      "source": [
        "score=input(\"請輸入成績\")\n",
        "if(int(score)>=90):\n",
        "  print(\"a\")\n",
        "elif(int(score)>=80):\n",
        "  print(\"b\")\n",
        "elif(int(score)>=80):\n",
        "  print(\"c\")\n",
        "elif(int(score)>=70):\n",
        "  print(\"d\")\n",
        "else:\n",
        "  print(\"e\")"
      ],
      "metadata": {
        "colab": {
          "base_uri": "https://localhost:8080/"
        },
        "id": "yVQ3f7JeFZk8",
        "outputId": "7fad88dd-5ec3-4691-c6d9-bba53f99afc0"
      },
      "execution_count": 16,
      "outputs": [
        {
          "output_type": "stream",
          "name": "stdout",
          "text": [
            "請輸入成績60\n",
            "e\n"
          ]
        }
      ]
    },
    {
      "cell_type": "code",
      "source": [
        "money= int(input(\"請輸入購物金\"))\n",
        "if(money>=10000):\n",
        " if(money>=100000):\n",
        "   print(\"八折\",money*0.8,end=\"元\\n\")\n",
        " elif(money>=50000):\n",
        "   print(\"八五折\",money*0.85,end=\"元\\n\")\n",
        " elif(money>=30000):\n",
        "   print(\"九折\",money*0.9,end=\"元\\n\")\n",
        " else:\n",
        "   print(\"九五折\",money*0.95,end=\"元\\n\")\n",
        "else:\n",
        "  print(\"沒打折\",money,end=\"元\\n\")"
      ],
      "metadata": {
        "colab": {
          "base_uri": "https://localhost:8080/"
        },
        "id": "O2X04EJVGPcn",
        "outputId": "aed58ca7-fd33-4b43-edcf-7f06e6e7485f"
      },
      "execution_count": 20,
      "outputs": [
        {
          "output_type": "stream",
          "name": "stdout",
          "text": [
            "請輸入購物金50000\n",
            "八五折 42500.0元\n"
          ]
        }
      ]
    },
    {
      "cell_type": "code",
      "source": [
        "month=int(input(\"請輸入月份\"))\n",
        "if month>=3 and month<=5:\n",
        "  print(month,\"月是春天\")\n",
        "elif month<=8 and month>=6:\n",
        "  print(month,\"月是夏天\")\n",
        "elif month>=9 and month<=11:\n",
        "  print(month,\"月是秋天\")\n",
        "elif month>11 and month<=12:\n",
        "  print(month,\"月是冬天\")\n",
        "elif month>=1 and month<=2:\n",
        "  print(month,\"月是冬天\")  \n",
        "\n",
        "\n",
        "\n",
        "else:\n",
        "   print(\"月份不再範圍內\")"
      ],
      "metadata": {
        "colab": {
          "base_uri": "https://localhost:8080/"
        },
        "id": "rA0rlm5YU9PK",
        "outputId": "0c85ee73-f738-4902-bc8a-c6a6c8e80037"
      },
      "execution_count": 48,
      "outputs": [
        {
          "output_type": "stream",
          "name": "stdout",
          "text": [
            "請輸入月份6\n",
            "6 月是夏天\n"
          ]
        }
      ]
    },
    {
      "cell_type": "code",
      "source": [
        "m= int(input(\"請輸入今年收入淨額\"))\n",
        "if(m>=300000):\n",
        " if(m>=2000000):\n",
        "   print(\"付稅金額:\",m*0.3,end=\"元\\n\")\n",
        " elif(m>=100000):\n",
        "   print(\"付稅金額:\",m*0.21,end=\"元\\n\")\n",
        " elif(m>=600000):\n",
        "   print(\"付稅金額:\",m*0.13,end=\"元\\n\")\n",
        " elif(m>=300000):\n",
        "   print(\"付稅金額:\",m*0.06,end=\"元\\n\")\n",
        "else:\n",
        "  print(\"付稅金額\",0,end=\"元\\n\")"
      ],
      "metadata": {
        "colab": {
          "base_uri": "https://localhost:8080/"
        },
        "id": "fUsviRrrew5q",
        "outputId": "7c95b266-09b1-4cec-ba17-fafe334feb8d"
      },
      "execution_count": 50,
      "outputs": [
        {
          "output_type": "stream",
          "name": "stdout",
          "text": [
            "請輸入今年收入淨額200000\n",
            "付稅金額 0元\n"
          ]
        }
      ]
    }
  ]
}