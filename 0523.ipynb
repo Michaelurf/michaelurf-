{
  "nbformat": 4,
  "nbformat_minor": 0,
  "metadata": {
    "colab": {
      "name": "0523.ipynb",
      "provenance": [],
      "authorship_tag": "ABX9TyNwgmLGcZ5n5BZACtqdGjGf",
      "include_colab_link": true
    },
    "kernelspec": {
      "name": "python3",
      "display_name": "Python 3"
    },
    "language_info": {
      "name": "python"
    }
  },
  "cells": [
    {
      "cell_type": "markdown",
      "metadata": {
        "id": "view-in-github",
        "colab_type": "text"
      },
      "source": [
        "<a href=\"https://colab.research.google.com/github/Michaelurf/michaelurf-/blob/main/0523.ipynb\" target=\"_parent\"><img src=\"https://colab.research.google.com/assets/colab-badge.svg\" alt=\"Open In Colab\"/></a>"
      ]
    },
    {
      "cell_type": "code",
      "execution_count": null,
      "metadata": {
        "id": "l-ppLkSphpG9",
        "colab": {
          "base_uri": "https://localhost:8080/"
        },
        "outputId": "08db6628-89d0-4f58-b775-106dbf0cef1e"
      },
      "outputs": [
        {
          "output_type": "stream",
          "name": "stdout",
          "text": [
            "0523\n"
          ]
        }
      ],
      "source": [
        "print(\"0523\")"
      ]
    },
    {
      "cell_type": "code",
      "source": [
        "sum=0\n",
        "test=int(input(\"請輸入一個正整數:\"))\n",
        "for n in range(1,test+1):\n",
        "   sum=sum+n\n",
        "print(\"1到\",test,\"整數和為:\",sum)\n"
      ],
      "metadata": {
        "colab": {
          "base_uri": "https://localhost:8080/"
        },
        "id": "Ht4TpQkgjwnh",
        "outputId": "1ef2d6ea-a226-4422-b2e8-7a6dc2640fcb"
      },
      "execution_count": null,
      "outputs": [
        {
          "output_type": "stream",
          "name": "stdout",
          "text": [
            "請輸入一個正整數:50\n",
            "1到 50 整數和為: 1275\n"
          ]
        }
      ]
    },
    {
      "cell_type": "code",
      "source": [
        "sum=0\n",
        "test=int(input(\"請輸入一個正整數:\"))\n",
        "for m in range(1,test+1):\n",
        "   sum=sum+m\n",
        "   print(\"1到\",str(m),\"整數和為:\",sum)"
      ],
      "metadata": {
        "colab": {
          "base_uri": "https://localhost:8080/"
        },
        "id": "ujgLZ30vjwp6",
        "outputId": "6fd139b7-5d92-4254-b781-71130111afdd"
      },
      "execution_count": null,
      "outputs": [
        {
          "output_type": "stream",
          "name": "stdout",
          "text": [
            "請輸入一個正整數:50\n",
            "1到 1 整數和為: 1\n",
            "1到 2 整數和為: 3\n",
            "1到 3 整數和為: 6\n",
            "1到 4 整數和為: 10\n",
            "1到 5 整數和為: 15\n",
            "1到 6 整數和為: 21\n",
            "1到 7 整數和為: 28\n",
            "1到 8 整數和為: 36\n",
            "1到 9 整數和為: 45\n",
            "1到 10 整數和為: 55\n",
            "1到 11 整數和為: 66\n",
            "1到 12 整數和為: 78\n",
            "1到 13 整數和為: 91\n",
            "1到 14 整數和為: 105\n",
            "1到 15 整數和為: 120\n",
            "1到 16 整數和為: 136\n",
            "1到 17 整數和為: 153\n",
            "1到 18 整數和為: 171\n",
            "1到 19 整數和為: 190\n",
            "1到 20 整數和為: 210\n",
            "1到 21 整數和為: 231\n",
            "1到 22 整數和為: 253\n",
            "1到 23 整數和為: 276\n",
            "1到 24 整數和為: 300\n",
            "1到 25 整數和為: 325\n",
            "1到 26 整數和為: 351\n",
            "1到 27 整數和為: 378\n",
            "1到 28 整數和為: 406\n",
            "1到 29 整數和為: 435\n",
            "1到 30 整數和為: 465\n",
            "1到 31 整數和為: 496\n",
            "1到 32 整數和為: 528\n",
            "1到 33 整數和為: 561\n",
            "1到 34 整數和為: 595\n",
            "1到 35 整數和為: 630\n",
            "1到 36 整數和為: 666\n",
            "1到 37 整數和為: 703\n",
            "1到 38 整數和為: 741\n",
            "1到 39 整數和為: 780\n",
            "1到 40 整數和為: 820\n",
            "1到 41 整數和為: 861\n",
            "1到 42 整數和為: 903\n",
            "1到 43 整數和為: 946\n",
            "1到 44 整數和為: 990\n",
            "1到 45 整數和為: 1035\n",
            "1到 46 整數和為: 1081\n",
            "1到 47 整數和為: 1128\n",
            "1到 48 整數和為: 1176\n",
            "1到 49 整數和為: 1225\n",
            "1到 50 整數和為: 1275\n"
          ]
        }
      ]
    },
    {
      "cell_type": "code",
      "source": [
        "for j in range(1,5):\n",
        "  print(j)\n",
        "  for i in range(1,3):\n",
        "    k=i*j\n",
        "    print(j,\"*\",i,\"=\",k)"
      ],
      "metadata": {
        "colab": {
          "base_uri": "https://localhost:8080/"
        },
        "id": "q3vyBoZNjwsl",
        "outputId": "77fbc0c3-a3fe-4e74-b415-cdc2d32bca15"
      },
      "execution_count": null,
      "outputs": [
        {
          "output_type": "stream",
          "name": "stdout",
          "text": [
            "1\n",
            "1 * 1 = 1\n",
            "1 * 2 = 2\n",
            "2\n",
            "2 * 1 = 2\n",
            "2 * 2 = 4\n",
            "3\n",
            "3 * 1 = 3\n",
            "3 * 2 = 6\n",
            "4\n",
            "4 * 1 = 4\n",
            "4 * 2 = 8\n"
          ]
        }
      ]
    },
    {
      "cell_type": "code",
      "source": [
        "for i in range(1,5):\n",
        "  if(i==4):\n",
        "    break\n",
        "  print(i,end=\" \")"
      ],
      "metadata": {
        "colab": {
          "base_uri": "https://localhost:8080/"
        },
        "id": "UE9Zq8O5ImuA",
        "outputId": "3e52de86-4766-4dde-df9c-7ce00c64dcf4"
      },
      "execution_count": null,
      "outputs": [
        {
          "output_type": "stream",
          "name": "stdout",
          "text": [
            "1 2 3 "
          ]
        }
      ]
    },
    {
      "cell_type": "code",
      "source": [
        "count=0\n",
        "for string in '測試看看!':\n",
        "   count+=1\n",
        "   if string == '看':\n",
        "      break\n",
        "   print(string)\n",
        "\n",
        "print('迴圈結束')\n",
        "print('迴圈執行了 %d次' %count)"
      ],
      "metadata": {
        "colab": {
          "base_uri": "https://localhost:8080/"
        },
        "id": "IfPcrxPvIm4P",
        "outputId": "7f0f2f1e-9d12-43c6-f0ab-3998c26ad115"
      },
      "execution_count": null,
      "outputs": [
        {
          "output_type": "stream",
          "name": "stdout",
          "text": [
            "測\n",
            "試\n",
            "迴圈結束\n",
            "迴圈執行了 3次\n"
          ]
        }
      ]
    },
    {
      "cell_type": "code",
      "source": [
        "for x in range(2,10):\n",
        "  for y in range(1,10):\n",
        "    k=x*y\n",
        "    print(x,\"*\",y,\"=\",k,end=\"\\t\")\n",
        "  print()\n",
        " \n"
      ],
      "metadata": {
        "colab": {
          "base_uri": "https://localhost:8080/"
        },
        "id": "BQYj3A-mjwvc",
        "outputId": "f201e155-0d50-4450-cf8c-71db7b60db6e"
      },
      "execution_count": null,
      "outputs": [
        {
          "output_type": "stream",
          "name": "stdout",
          "text": [
            "2 * 1 = 2\t2 * 2 = 4\t2 * 3 = 6\t2 * 4 = 8\t2 * 5 = 10\t2 * 6 = 12\t2 * 7 = 14\t2 * 8 = 16\t2 * 9 = 18\t\n",
            "3 * 1 = 3\t3 * 2 = 6\t3 * 3 = 9\t3 * 4 = 12\t3 * 5 = 15\t3 * 6 = 18\t3 * 7 = 21\t3 * 8 = 24\t3 * 9 = 27\t\n",
            "4 * 1 = 4\t4 * 2 = 8\t4 * 3 = 12\t4 * 4 = 16\t4 * 5 = 20\t4 * 6 = 24\t4 * 7 = 28\t4 * 8 = 32\t4 * 9 = 36\t\n",
            "5 * 1 = 5\t5 * 2 = 10\t5 * 3 = 15\t5 * 4 = 20\t5 * 5 = 25\t5 * 6 = 30\t5 * 7 = 35\t5 * 8 = 40\t5 * 9 = 45\t\n",
            "6 * 1 = 6\t6 * 2 = 12\t6 * 3 = 18\t6 * 4 = 24\t6 * 5 = 30\t6 * 6 = 36\t6 * 7 = 42\t6 * 8 = 48\t6 * 9 = 54\t\n",
            "7 * 1 = 7\t7 * 2 = 14\t7 * 3 = 21\t7 * 4 = 28\t7 * 5 = 35\t7 * 6 = 42\t7 * 7 = 49\t7 * 8 = 56\t7 * 9 = 63\t\n",
            "8 * 1 = 8\t8 * 2 = 16\t8 * 3 = 24\t8 * 4 = 32\t8 * 5 = 40\t8 * 6 = 48\t8 * 7 = 56\t8 * 8 = 64\t8 * 9 = 72\t\n",
            "9 * 1 = 9\t9 * 2 = 18\t9 * 3 = 27\t9 * 4 = 36\t9 * 5 = 45\t9 * 6 = 54\t9 * 7 = 63\t9 * 8 = 72\t9 * 9 = 81\t\n"
          ]
        }
      ]
    },
    {
      "cell_type": "code",
      "source": [
        "print=int(input(\"請輸入a的值\"))\n",
        "print=int(input(\"請輸入b的值\"))\n",
        "c=a*b\n",
        "for i in range(1,c):\n",
        "  if(i==c):\n",
        "    break\n",
        "  print(a,\"和\",b,\"的最小公倍數=\",i,end=\" \")\n"
      ],
      "metadata": {
        "id": "syAGzu1VjwyM"
      },
      "execution_count": null,
      "outputs": []
    },
    {
      "cell_type": "code",
      "source": [
        ""
      ],
      "metadata": {
        "id": "lbsouvbhtMmm"
      },
      "execution_count": null,
      "outputs": []
    },
    {
      "cell_type": "code",
      "source": [
        ""
      ],
      "metadata": {
        "id": "svpTGUbDL71e"
      },
      "execution_count": null,
      "outputs": []
    }
  ]
}